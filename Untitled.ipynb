{
 "cells": [
  {
   "cell_type": "code",
   "execution_count": 1,
   "id": "4346984b-c7b8-46f4-9924-75bed53a7d83",
   "metadata": {},
   "outputs": [
    {
     "name": "stdout",
     "output_type": "stream",
     "text": [
      "2.5.1\n"
     ]
    }
   ],
   "source": [
    "import torch; print(torch.__version__)"
   ]
  },
  {
   "cell_type": "code",
   "execution_count": 4,
   "id": "15b6d316-d185-4065-93cf-35ae4edbd87e",
   "metadata": {},
   "outputs": [],
   "source": [
    "import sys\n",
    "sys.path.insert(0, \"/home/moriya2524/mlp/sources/torchmd-net\")"
   ]
  },
  {
   "cell_type": "code",
   "execution_count": 3,
   "id": "50655e15-bf84-4c0c-8755-8640fbb3ae71",
   "metadata": {},
   "outputs": [],
   "source": [
    "import numpy as np"
   ]
  },
  {
   "cell_type": "code",
   "execution_count": 5,
   "id": "d7926d56-896f-47d9-9ea3-0e2db74e5995",
   "metadata": {},
   "outputs": [
    {
     "data": {
      "text/plain": [
       "((2800, 27, 3), (2800, 3))"
      ]
     },
     "execution_count": 5,
     "metadata": {},
     "output_type": "execute_result"
    }
   ],
   "source": [
    "a = np.load(f\"{path}full_coord.npy\")\n",
    "b = np.load(f\"{path}full_dpm.npy\")\n",
    "a.shape,b.shape"
   ]
  },
  {
   "cell_type": "code",
   "execution_count": 1,
   "id": "b4ae4a29-571f-46a9-aa7d-18343297ca83",
   "metadata": {},
   "outputs": [],
   "source": [
    "from torchmdnet.scripts import train\n",
    "import sys\n",
    "sys.path.insert(0, \"/home/moriya2524/mlp/sources/torchmd-net\")"
   ]
  },
  {
   "cell_type": "code",
   "execution_count": null,
   "id": "05669864-23e2-42e9-b60e-6f602ec923c1",
   "metadata": {
    "scrolled": true
   },
   "outputs": [
    {
     "name": "stderr",
     "output_type": "stream",
     "text": [
      "[rank: 0] Seed set to 42\n"
     ]
    }
   ],
   "source": [
    "path = \"/scratch/moriya2524/mlp/phbdi_tddft_datas/\"\n",
    "# 构造模拟命令行参数\n",
    "sys.argv = [\n",
    "    \"train.py\",\n",
    "    \"--conf\", \"TensorNet-rMD17.yaml\",\n",
    "    \"--log-dir\", f\"/scratch/moriya2524/mlp/logs\",\n",
    "    \"--coord-files\", f\"{path}full_coord.npy\",\n",
    "    \"--energy-files\", f\"{path}full_S1_energy.npy\",\n",
    "    \"--force-files\", f\"{path}full_force.npy\",\n",
    "    \"--embed-files\", f\"{path}full_type.npy\",\n",
    "    \"--dipole-files\", f\"{path}full_dpm.npy\",\n",
    "    \"--splits\", f\"{path}1000_split.npz\",\n",
    "    \"--predict-dipole\", \"True\",\n",
    "    \"--train-size\", \"1000\",\n",
    "    \"--val-size\", \"200\",\n",
    "    \"--test-size\", \"200\"\n",
    "]\n",
    "\n",
    "train.main()  # 直接运行你的训练入口\n"
   ]
  },
  {
   "cell_type": "code",
   "execution_count": 7,
   "id": "3d2eec77-1b8f-404a-835e-99284de997ba",
   "metadata": {},
   "outputs": [],
   "source": [
    "if torch.cuda.is_available():\n",
    "    print(\"Device count:\", torch.cuda.device_count())\n",
    "    for i in range(torch.cuda.device_count()):\n",
    "        print(f\"GPU {i}: {torch.cuda.get_device_name(i)}\")"
   ]
  },
  {
   "cell_type": "code",
   "execution_count": null,
   "id": "a2b3ab07-8a16-4485-a209-a3bc63184d9d",
   "metadata": {},
   "outputs": [],
   "source": []
  }
 ],
 "metadata": {
  "kernelspec": {
   "display_name": "Python 3 (ipykernel)",
   "language": "python",
   "name": "python3"
  },
  "language_info": {
   "codemirror_mode": {
    "name": "ipython",
    "version": 3
   },
   "file_extension": ".py",
   "mimetype": "text/x-python",
   "name": "python",
   "nbconvert_exporter": "python",
   "pygments_lexer": "ipython3",
   "version": "3.9.23"
  }
 },
 "nbformat": 4,
 "nbformat_minor": 5
}
