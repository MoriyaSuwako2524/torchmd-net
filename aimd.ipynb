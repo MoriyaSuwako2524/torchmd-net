{
 "cells": [
  {
   "cell_type": "code",
   "execution_count": null,
   "id": "d82b6987-aaac-4a63-94aa-c5fae4e629a5",
   "metadata": {},
   "outputs": [],
   "source": [
    "from util.ml_data import MLData\n",
    "from util.modify_inp import qchem_out_aimd_multi\n",
    "import numpy as np"
   ]
  },
  {
   "cell_type": "code",
   "execution_count": 4,
   "id": "initial_id",
   "metadata": {
    "ExecuteTime": {
     "end_time": "2025-09-24T00:36:47.805533Z",
     "start_time": "2025-09-24T00:36:46.998603Z"
    },
    "collapsed": true,
    "jupyter": {
     "outputs_hidden": true
    }
   },
   "outputs": [
    {
     "data": {
      "text/plain": [
       "(array([[[-2.13349988e+00, -3.09287158e+00,  9.48830430e-03],\n",
       "         [-2.88553746e-01, -1.96650333e+00,  8.83486360e-03],\n",
       "         [-1.35407194e+00, -9.72793620e-01,  8.26890670e-03],\n",
       "         ...,\n",
       "         [ 3.41631863e+00, -5.63045006e+00,  1.82262954e-02],\n",
       "         [ 5.62719638e+00, -1.89148930e+00,  4.46584080e-03],\n",
       "         [ 5.79696642e+00, -4.51729227e+00,  1.48621327e-02]],\n",
       " \n",
       "        [[-2.13440974e+00, -3.09382628e+00,  7.91227430e-03],\n",
       "         [-2.86478355e-01, -1.96424211e+00,  5.50838650e-03],\n",
       "         [-1.35788591e+00, -9.72277096e-01,  2.43245010e-03],\n",
       "         ...,\n",
       "         [ 3.41032655e+00, -5.64502468e+00,  2.07469473e-02],\n",
       "         [ 5.62643778e+00, -1.88158764e+00, -2.61004210e-03],\n",
       "         [ 5.79838759e+00, -4.51843775e+00,  1.57015585e-02]],\n",
       " \n",
       "        [[-2.13522701e+00, -3.09450434e+00,  6.45952780e-03],\n",
       "         [-2.84732484e-01, -1.96219530e+00,  2.05188790e-03],\n",
       "         [-1.36175900e+00, -9.72403531e-01, -3.22481130e-03],\n",
       "         ...,\n",
       "         [ 3.40584179e+00, -5.65615769e+00,  2.34206567e-02],\n",
       "         [ 5.62576964e+00, -1.87214141e+00, -9.66863160e-03],\n",
       "         [ 5.79973662e+00, -4.51975295e+00,  1.66615796e-02]],\n",
       " \n",
       "        ...,\n",
       " \n",
       "        [[-1.79347583e+00, -2.44435035e+00, -6.42600092e-01],\n",
       "         [ 1.55440217e-01, -1.99111561e+00,  2.85680652e-01],\n",
       "         [-7.74810773e-01, -1.02971461e+00,  7.97741364e-01],\n",
       "         ...,\n",
       "         [ 2.99293944e+00, -5.65308881e+00, -2.09768958e+00],\n",
       "         [ 5.89030096e+00, -2.83239151e+00, -3.88803141e-01],\n",
       "         [ 5.59590594e+00, -4.84038164e+00, -2.00107633e+00]],\n",
       " \n",
       "        [[-1.79539882e+00, -2.44246838e+00, -6.44080983e-01],\n",
       "         [ 1.51629193e-01, -1.99207229e+00,  2.85308518e-01],\n",
       "         [-7.78017841e-01, -1.02817095e+00,  7.98857910e-01],\n",
       "         ...,\n",
       "         [ 2.99458824e+00, -5.64852432e+00, -2.10134696e+00],\n",
       "         [ 5.88577013e+00, -2.83308752e+00, -4.00679230e-01],\n",
       "         [ 5.59339809e+00, -4.83799526e+00, -2.00345358e+00]],\n",
       " \n",
       "        [[-1.79777599e+00, -2.44033080e+00, -6.44830322e-01],\n",
       "         [ 1.47183886e-01, -1.99306811e+00,  2.84231684e-01],\n",
       "         [-7.81768958e-01, -1.02613484e+00,  8.00247710e-01],\n",
       "         ...,\n",
       "         [ 2.99718052e+00, -5.64267226e+00, -2.10492929e+00],\n",
       "         [ 5.87804535e+00, -2.83724788e+00, -4.12619202e-01],\n",
       "         [ 5.59111179e+00, -4.83600686e+00, -2.00615579e+00]]],\n",
       "       shape=(5000, 27, 3)),\n",
       " array([-453750.23728152, -453748.59516943, -453746.4177662 , ...,\n",
       "        -453729.91108428, -453730.88322904, -453730.7019163 ],\n",
       "       shape=(5000,)),\n",
       " array([[[ 1.01646334e+01,  2.12736559e+00,  2.50220408e+00],\n",
       "         [-7.20031430e+00, -2.76272929e+00,  4.31046484e-01],\n",
       "         [ 5.77305832e+00, -7.25130467e-01,  2.21393063e+00],\n",
       "         ...,\n",
       "         [ 3.82783507e-01,  1.32008134e+01,  5.15832793e-02],\n",
       "         [-4.32350888e-01, -1.51808998e+00,  3.81953431e-01],\n",
       "         [ 1.72667616e+00, -2.24796374e+00, -8.02801841e-01]],\n",
       " \n",
       "        [[ 1.98146199e+01,  4.59518082e+00,  4.98211471e+00],\n",
       "         [-1.45398442e+01, -6.10651161e+00,  9.40831582e-01],\n",
       "         [ 1.09702812e+01, -1.36808343e+00,  4.42418521e+00],\n",
       "         ...,\n",
       "         [ 8.37309276e-01,  2.32131872e+01,  1.68623961e-01],\n",
       "         [-1.16186890e+00, -3.26196057e+00,  7.70428887e-01],\n",
       "         [ 2.91913928e+00, -4.17207935e+00, -1.59244105e+00]],\n",
       " \n",
       "        [[ 2.85113236e+01,  6.10402139e+00,  7.54325417e+00],\n",
       "         [-2.10404046e+01, -9.38388787e+00,  1.50931489e+00],\n",
       "         [ 1.61650139e+01, -6.39158335e-01,  6.53340772e+00],\n",
       "         ...,\n",
       "         [ 1.07174639e+00,  3.00689015e+01,  2.54358929e-01],\n",
       "         [-1.66809653e+00, -4.77317278e+00,  1.18463669e+00],\n",
       "         [ 4.47683573e+00, -6.25379077e+00, -2.36180270e+00]],\n",
       " \n",
       "        ...,\n",
       " \n",
       "        [[-3.37323815e+01,  3.06167515e+00,  2.01158188e+01],\n",
       "         [-5.97679449e+01, -1.83241595e+01, -5.53894138e+01],\n",
       "         [-3.53290915e+01,  3.07004705e+01,  2.54000811e+01],\n",
       "         ...,\n",
       "         [ 8.81421874e+00,  7.30846131e+00, -1.68920417e+00],\n",
       "         [-2.61606676e+01, -2.08363245e+01,  3.49936224e-01],\n",
       "         [ 9.56448864e+00, -2.40630662e+01, -1.65578769e+01]],\n",
       " \n",
       "        [[-2.81029263e+01,  4.12429070e+00,  2.11177202e+01],\n",
       "         [-5.30215634e+01, -1.79927222e+01, -5.35389378e+01],\n",
       "         [-3.33711800e+01,  2.19553852e+01,  1.90240320e+01],\n",
       "         ...,\n",
       "         [ 7.94145337e+00,  7.01022695e+00, -1.98364390e+00],\n",
       "         [-2.18573177e+01, -1.87758393e+01,  2.14230695e+00],\n",
       "         [ 1.52552509e+01, -2.79543428e+01, -2.09399654e+01]],\n",
       " \n",
       "        [[-2.10077945e+01,  4.40663504e+00,  2.13784826e+01],\n",
       "         [-4.52136337e+01, -1.70260396e+01, -5.08184238e+01],\n",
       "         [-3.06008614e+01,  1.18136382e+01,  1.16651732e+01],\n",
       "         ...,\n",
       "         [ 6.70997669e+00,  5.78811827e+00, -2.91155002e+00],\n",
       "         [-1.46055387e+01, -1.52324831e+01,  4.17800846e+00],\n",
       "         [ 1.98963230e+01, -3.10422246e+01, -2.44952985e+01]]],\n",
       "       shape=(5000, 27, 3)),\n",
       " array([6, 6, 6, 7, 8, 7, 6, 1, 1, 1, 6, 1, 1, 1, 6, 1, 6, 6, 6, 6, 1, 6,\n",
       "        1, 6, 1, 1, 8]))"
      ]
     },
     "execution_count": 4,
     "metadata": {},
     "output_type": "execute_result"
    }
   ],
   "source": [
    "from util.ml_data import MLData\n",
    "from util.modify_inp import qchem_out_aimd_multi\n",
    "import numpy as np\n",
    "\n",
    "\n",
    "prefix = \"./examples/phbdi/full_\"\n",
    "path = \"./examples/phbdi/\"\n",
    "multi = qchem_out_aimd_multi()\n",
    "multi.read_files([\n",
    "    \"./examples/phbdi/aimd_phbdi_nvt_1.out\",\n",
    "])\n",
    "\n",
    "\n",
    "\n",
    "# 转换成 kcal/mol, Angstrom, kcal/mol/Angstrom\n",
    "\n",
    "multi.export_numpy(prefix=prefix,\n",
    "                   energy_unit=\"kcal\",\n",
    "                   distance_unit=\"ang\",\n",
    "                   force_unit=(\"kcal\", \"ang\"))\n",
    "\n",
    "\n"
   ]
  },
  {
   "cell_type": "code",
   "execution_count": 5,
   "id": "f263d1d3c9a1e8cc",
   "metadata": {
    "ExecuteTime": {
     "end_time": "2025-09-24T00:36:52.475261Z",
     "start_time": "2025-09-24T00:36:52.443266Z"
    }
   },
   "outputs": [
    {
     "name": "stdout",
     "output_type": "stream",
     "text": [
      "Loaded dataset with 5000 frames, 27 atoms\n",
      "Saved split to ./examples/phbdi/1000_split.npz (idx_train=1000, idx_val=200, idx_test=200)\n"
     ]
    }
   ],
   "source": [
    "# 1. 读取 (可扩展字段)\n",
    "dataset = MLData(prefix=prefix, files=[\"coord\",\"energy\",\"grad\",\"type\"])\n",
    "\n",
    "# 2. 保存划分\n",
    "train = 1000\n",
    "test = int(train/5)\n",
    "val = int(train/5)\n",
    "dataset.save_split(train, val, test, prefix=f\"{path}{train}_\")\n",
    "\n",
    "# 3. 加载 split 并切片\n",
    "split = np.load(f\"{path}{train}_split.npz\", allow_pickle=True)\n",
    "train_data = dataset.get_split_data(split, part=\"idx_train\")\n",
    "val_data   = dataset.get_split_data(split, part=\"idx_val\")\n",
    "energies = np.load(f\"{prefix}energy.npy\", allow_pickle=True)\n",
    "ex"
   ]
  },
  {
   "cell_type": "code",
   "execution_count": null,
   "id": "956e1541-1308-468b-9c1a-962f4afc6d04",
   "metadata": {},
   "outputs": [],
   "source": []
  },
  {
   "cell_type": "code",
   "execution_count": 2,
   "id": "1b9bac39f483e919",
   "metadata": {
    "ExecuteTime": {
     "end_time": "2025-09-24T00:37:52.125924Z",
     "start_time": "2025-09-24T00:37:52.024748Z"
    }
   },
   "outputs": [
    {
     "data": {
      "image/png": "[encoded data removed]",
      "text/plain": [
       "<Figure size 640x480 with 1 Axes>"
      ]
     },
     "metadata": {},
     "output_type": "display_data"
    }
   ],
   "source": [
    "import matplotlib.pyplot as plt\n",
    "prefix = \"./phbdi_tddft_datas/full_\"\n",
    "path = \"./phbdi_tddft_datas/\"\n",
    "train = 1000\n",
    "energies = np.load(f\"{prefix}ex_energy.npy\", allow_pickle=True)\n",
    "split = np.load(f\"{path}{train}_split.npz\", allow_pickle=True)\n",
    "plt.hist(energies[split[\"idx_train\"]], bins=50, alpha=0.5, label=\"train\")\n",
    "plt.hist(energies[split[\"idx_val\"]], bins=50, alpha=0.5, label=\"val\")\n",
    "plt.hist(energies[split[\"idx_test\"]], bins=50, alpha=0.5, label=\"test\")\n",
    "plt.legend(); plt.show()\n"
   ]
  },
  {
   "cell_type": "code",
   "execution_count": 3,
   "id": "262e2ff28eee160e",
   "metadata": {
    "ExecuteTime": {
     "end_time": "2025-09-24T00:38:00.112635Z",
     "start_time": "2025-09-24T00:38:00.061313Z"
    }
   },
   "outputs": [
    {
     "ename": "FileNotFoundError",
     "evalue": "[Errno 2] No such file or directory: './phbdi_tddft_datas/full_energy.npy'",
     "output_type": "error",
     "traceback": [
      "\u001b[31m---------------------------------------------------------------------------\u001b[39m",
      "\u001b[31mFileNotFoundError\u001b[39m                         Traceback (most recent call last)",
      "\u001b[36mCell\u001b[39m\u001b[36m \u001b[39m\u001b[32mIn[3]\u001b[39m\u001b[32m, line 7\u001b[39m\n\u001b[32m      5\u001b[39m \u001b[38;5;66;03m# --- 加载数据 ---\u001b[39;00m\n\u001b[32m      6\u001b[39m coords = np.load(\u001b[33mf\u001b[39m\u001b[33m\"\u001b[39m\u001b[38;5;132;01m{\u001b[39;00mpath\u001b[38;5;132;01m}\u001b[39;00m\u001b[33mfull_coord.npy\u001b[39m\u001b[33m\"\u001b[39m)     \u001b[38;5;66;03m# (N, Natoms, 3)\u001b[39;00m\n\u001b[32m----> \u001b[39m\u001b[32m7\u001b[39m energies = \u001b[43mnp\u001b[49m\u001b[43m.\u001b[49m\u001b[43mload\u001b[49m\u001b[43m(\u001b[49m\u001b[33;43mf\u001b[39;49m\u001b[33;43m\"\u001b[39;49m\u001b[38;5;132;43;01m{\u001b[39;49;00m\u001b[43mpath\u001b[49m\u001b[38;5;132;43;01m}\u001b[39;49;00m\u001b[33;43mfull_energy.npy\u001b[39;49m\u001b[33;43m\"\u001b[39;49m\u001b[43m)\u001b[49m  \u001b[38;5;66;03m# (N,)\u001b[39;00m\n\u001b[32m      8\u001b[39m grads = np.load(\u001b[33mf\u001b[39m\u001b[33m\"\u001b[39m\u001b[38;5;132;01m{\u001b[39;00mpath\u001b[38;5;132;01m}\u001b[39;00m\u001b[33mfull_grad.npy\u001b[39m\u001b[33m\"\u001b[39m)       \u001b[38;5;66;03m# (N, Natoms, 3)\u001b[39;00m\n\u001b[32m     10\u001b[39m \u001b[38;5;66;03m# 注意：如果 grads 存的是 dE/dR，需要取负号；如果 grads 已经是力，就不要取负\u001b[39;00m\n",
      "\u001b[36mFile \u001b[39m\u001b[32m/scratch/moriya/python/ML_cuda126/lib/python3.11/site-packages/numpy/lib/_npyio_impl.py:451\u001b[39m, in \u001b[36mload\u001b[39m\u001b[34m(file, mmap_mode, allow_pickle, fix_imports, encoding, max_header_size)\u001b[39m\n\u001b[32m    449\u001b[39m     own_fid = \u001b[38;5;28;01mFalse\u001b[39;00m\n\u001b[32m    450\u001b[39m \u001b[38;5;28;01melse\u001b[39;00m:\n\u001b[32m--> \u001b[39m\u001b[32m451\u001b[39m     fid = stack.enter_context(\u001b[38;5;28;43mopen\u001b[39;49m\u001b[43m(\u001b[49m\u001b[43mos\u001b[49m\u001b[43m.\u001b[49m\u001b[43mfspath\u001b[49m\u001b[43m(\u001b[49m\u001b[43mfile\u001b[49m\u001b[43m)\u001b[49m\u001b[43m,\u001b[49m\u001b[43m \u001b[49m\u001b[33;43m\"\u001b[39;49m\u001b[33;43mrb\u001b[39;49m\u001b[33;43m\"\u001b[39;49m\u001b[43m)\u001b[49m)\n\u001b[32m    452\u001b[39m     own_fid = \u001b[38;5;28;01mTrue\u001b[39;00m\n\u001b[32m    454\u001b[39m \u001b[38;5;66;03m# Code to distinguish from NumPy binary files and pickles.\u001b[39;00m\n",
      "\u001b[31mFileNotFoundError\u001b[39m: [Errno 2] No such file or directory: './phbdi_tddft_datas/full_energy.npy'"
     ]
    }
   ],
   "source": [
    "import numpy as np\n",
    "import random\n",
    "import matplotlib.pyplot as plt\n",
    "\n",
    "# --- 加载数据 ---\n",
    "coords = np.load(f\"{path}full_coord.npy\")     # (N, Natoms, 3)\n",
    "energies = np.load(f\"{path}full_energy.npy\")  # (N,)\n",
    "grads = np.load(f\"{path}full_grad.npy\")       # (N, Natoms, 3)\n",
    "\n",
    "forces = grads   # 如果 full_grad 已经是力，请把这行改成 forces = grads\n",
    "\n",
    "N = len(coords)\n",
    "\n",
    "def energy_diff_from_forces(R0, R1, F0, F1):\n",
    "    \"\"\"用梯形规则积分力估算能量差\"\"\"\n",
    "    dR = R1 - R0  # (Natoms, 3)\n",
    "    work0 = np.sum(F0 * dR)\n",
    "    work1 = np.sum(F1 * dR)\n",
    "    return -0.5 * (work0 + work1)\n",
    "\n",
    "# --- 随机取一些片段做对比 ---\n",
    "ncheck = 200\n",
    "idxs = random.sample(range(N-1), ncheck)\n",
    "\n",
    "dE_ref = []\n",
    "dE_int = []\n",
    "\n",
    "for i in idxs:\n",
    "    R0, R1 = coords[i], coords[i+1]\n",
    "    E0, E1 = energies[i], energies[i+1]\n",
    "    F0, F1 = forces[i], forces[i+1]\n",
    "\n",
    "    dE_ref.append(E1 - E0)\n",
    "    dE_int.append(energy_diff_from_forces(R0, R1, F0, F1))\n",
    "\n",
    "dE_ref = np.array(dE_ref)\n",
    "dE_int = np.array(dE_int)\n",
    "\n",
    "# --- 打印统计 ---\n",
    "corr = np.corrcoef(dE_ref, dE_int)[0,1]\n",
    "mae = np.mean(np.abs(dE_ref - dE_int))\n",
    "print(\"ΔE_ref vs ΔE_int correlation:\", corr)\n",
    "print(\"Mean abs error:\", mae)\n",
    "\n",
    "# --- 可视化 ---\n",
    "plt.figure(figsize=(6,6))\n",
    "plt.scatter(dE_ref, dE_int, alpha=0.6)\n",
    "plt.plot([dE_ref.min(), dE_ref.max()], [dE_ref.min(), dE_ref.max()], \"r--\")\n",
    "plt.xlabel(\"Reference ΔE (kcal/mol)\")\n",
    "plt.ylabel(\"Integrated Force ΔE (kcal/mol)\")\n",
    "plt.title(\"Energy difference vs Force integral\")\n",
    "plt.show()\n"
   ]
  },
  {
   "cell_type": "code",
   "execution_count": 1,
   "id": "3f1781ce8ae7e3b1",
   "metadata": {
    "ExecuteTime": {
     "end_time": "2025-09-24T00:38:02.411975Z",
     "start_time": "2025-09-24T00:38:02.409074Z"
    }
   },
   "outputs": [
    {
     "ename": "NameError",
     "evalue": "name 'dE_ref' is not defined",
     "output_type": "error",
     "traceback": [
      "\u001b[31m---------------------------------------------------------------------------\u001b[39m",
      "\u001b[31mNameError\u001b[39m                                 Traceback (most recent call last)",
      "\u001b[36mCell\u001b[39m\u001b[36m \u001b[39m\u001b[32mIn[1]\u001b[39m\u001b[32m, line 5\u001b[39m\n\u001b[32m      2\u001b[39m \u001b[38;5;28;01mimport\u001b[39;00m\u001b[38;5;250m \u001b[39m\u001b[34;01mnumpy\u001b[39;00m\u001b[38;5;250m \u001b[39m\u001b[38;5;28;01mas\u001b[39;00m\u001b[38;5;250m \u001b[39m\u001b[34;01mnp\u001b[39;00m\n\u001b[32m      4\u001b[39m \u001b[38;5;66;03m# 用你刚才脚本算出来的数组\u001b[39;00m\n\u001b[32m----> \u001b[39m\u001b[32m5\u001b[39m slope, intercept, r, *_ = linregress(\u001b[43mdE_ref\u001b[49m, dE_int)\n\u001b[32m      6\u001b[39m \u001b[38;5;28mprint\u001b[39m(\u001b[33m\"\u001b[39m\u001b[33mslope =\u001b[39m\u001b[33m\"\u001b[39m, slope)  \u001b[38;5;66;03m# 这就是比例 k，理想应为 1\u001b[39;00m\n",
      "\u001b[31mNameError\u001b[39m: name 'dE_ref' is not defined"
     ]
    }
   ],
   "source": [
    "from scipy.stats import linregress\n",
    "import numpy as np\n",
    "\n",
    "# 用你刚才脚本算出来的数组\n",
    "slope, intercept, r, *_ = linregress(dE_ref, dE_int)\n",
    "print(\"slope =\", slope)  # 这就是比例 k，理想应为 1"
   ]
  },
  {
   "cell_type": "code",
   "execution_count": null,
   "id": "400c41da-43ea-4922-b67d-d957b46723aa",
   "metadata": {},
   "outputs": [],
   "source": []
  }
 ],
 "metadata": {
  "kernelspec": {
   "display_name": "Python 3 (ipykernel)",
   "language": "python",
   "name": "python3"
  },
  "language_info": {
   "codemirror_mode": {
    "name": "ipython",
    "version": 3
   },
   "file_extension": ".py",
   "mimetype": "text/x-python",
   "name": "python",
   "nbconvert_exporter": "python",
   "pygments_lexer": "ipython3",
   "version": "3.11.2"
  }
 },
 "nbformat": 4,
 "nbformat_minor": 5
}
